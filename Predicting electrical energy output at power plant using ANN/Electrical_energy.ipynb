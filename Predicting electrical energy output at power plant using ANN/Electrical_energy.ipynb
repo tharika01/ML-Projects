{
 "cells": [
  {
   "attachments": {},
   "cell_type": "markdown",
   "metadata": {},
   "source": [
    "Importing Libraries"
   ]
  },
  {
   "cell_type": "code",
   "execution_count": 25,
   "metadata": {},
   "outputs": [],
   "source": [
    "import numpy as np\n",
    "import pandas as pd\n",
    "import tensorflow as tf"
   ]
  },
  {
   "cell_type": "code",
   "execution_count": 26,
   "metadata": {},
   "outputs": [
    {
     "data": {
      "text/plain": [
       "'2.11.0'"
      ]
     },
     "execution_count": 26,
     "metadata": {},
     "output_type": "execute_result"
    }
   ],
   "source": [
    "tf.__version__"
   ]
  },
  {
   "attachments": {},
   "cell_type": "markdown",
   "metadata": {},
   "source": [
    "Data Pre-Processing"
   ]
  },
  {
   "attachments": {},
   "cell_type": "markdown",
   "metadata": {},
   "source": [
    "Importing the dataset"
   ]
  },
  {
   "cell_type": "code",
   "execution_count": 27,
   "metadata": {},
   "outputs": [
    {
     "data": {
      "text/html": [
       "<div>\n",
       "<style scoped>\n",
       "    .dataframe tbody tr th:only-of-type {\n",
       "        vertical-align: middle;\n",
       "    }\n",
       "\n",
       "    .dataframe tbody tr th {\n",
       "        vertical-align: top;\n",
       "    }\n",
       "\n",
       "    .dataframe thead th {\n",
       "        text-align: right;\n",
       "    }\n",
       "</style>\n",
       "<table border=\"1\" class=\"dataframe\">\n",
       "  <thead>\n",
       "    <tr style=\"text-align: right;\">\n",
       "      <th></th>\n",
       "      <th>AT</th>\n",
       "      <th>V</th>\n",
       "      <th>AP</th>\n",
       "      <th>RH</th>\n",
       "      <th>PE</th>\n",
       "    </tr>\n",
       "  </thead>\n",
       "  <tbody>\n",
       "    <tr>\n",
       "      <th>0</th>\n",
       "      <td>14.96</td>\n",
       "      <td>41.76</td>\n",
       "      <td>1024.07</td>\n",
       "      <td>73.17</td>\n",
       "      <td>463.26</td>\n",
       "    </tr>\n",
       "    <tr>\n",
       "      <th>1</th>\n",
       "      <td>25.18</td>\n",
       "      <td>62.96</td>\n",
       "      <td>1020.04</td>\n",
       "      <td>59.08</td>\n",
       "      <td>444.37</td>\n",
       "    </tr>\n",
       "    <tr>\n",
       "      <th>2</th>\n",
       "      <td>5.11</td>\n",
       "      <td>39.40</td>\n",
       "      <td>1012.16</td>\n",
       "      <td>92.14</td>\n",
       "      <td>488.56</td>\n",
       "    </tr>\n",
       "    <tr>\n",
       "      <th>3</th>\n",
       "      <td>20.86</td>\n",
       "      <td>57.32</td>\n",
       "      <td>1010.24</td>\n",
       "      <td>76.64</td>\n",
       "      <td>446.48</td>\n",
       "    </tr>\n",
       "    <tr>\n",
       "      <th>4</th>\n",
       "      <td>10.82</td>\n",
       "      <td>37.50</td>\n",
       "      <td>1009.23</td>\n",
       "      <td>96.62</td>\n",
       "      <td>473.90</td>\n",
       "    </tr>\n",
       "  </tbody>\n",
       "</table>\n",
       "</div>"
      ],
      "text/plain": [
       "      AT      V       AP     RH      PE\n",
       "0  14.96  41.76  1024.07  73.17  463.26\n",
       "1  25.18  62.96  1020.04  59.08  444.37\n",
       "2   5.11  39.40  1012.16  92.14  488.56\n",
       "3  20.86  57.32  1010.24  76.64  446.48\n",
       "4  10.82  37.50  1009.23  96.62  473.90"
      ]
     },
     "execution_count": 27,
     "metadata": {},
     "output_type": "execute_result"
    }
   ],
   "source": [
    "data = pd.read_excel('energy.xlsx')\n",
    "data.head()"
   ]
  },
  {
   "cell_type": "code",
   "execution_count": 28,
   "metadata": {},
   "outputs": [],
   "source": [
    "x = data.iloc[ : ,:-1].values\n",
    "y = data.iloc[:, -1].values"
   ]
  },
  {
   "cell_type": "code",
   "execution_count": 29,
   "metadata": {},
   "outputs": [
    {
     "name": "stdout",
     "output_type": "stream",
     "text": [
      "[[  14.96   41.76 1024.07   73.17]\n",
      " [  25.18   62.96 1020.04   59.08]\n",
      " [   5.11   39.4  1012.16   92.14]\n",
      " ...\n",
      " [  31.32   74.33 1012.92   36.48]\n",
      " [  24.48   69.45 1013.86   62.39]\n",
      " [  21.6    62.52 1017.23   67.87]]\n"
     ]
    }
   ],
   "source": [
    "print(x)"
   ]
  },
  {
   "cell_type": "code",
   "execution_count": 30,
   "metadata": {},
   "outputs": [
    {
     "name": "stdout",
     "output_type": "stream",
     "text": [
      "[463.26 444.37 488.56 ... 429.57 435.74 453.28]\n"
     ]
    }
   ],
   "source": [
    "print(y)"
   ]
  },
  {
   "attachments": {},
   "cell_type": "markdown",
   "metadata": {},
   "source": [
    "Splitting the dataset into training set and test set"
   ]
  },
  {
   "cell_type": "code",
   "execution_count": 31,
   "metadata": {},
   "outputs": [],
   "source": [
    "from sklearn.model_selection import train_test_split\n",
    "X_train, X_test, y_train, y_test = train_test_split(x, y, test_size = 0.2, random_state = 0)"
   ]
  },
  {
   "attachments": {},
   "cell_type": "markdown",
   "metadata": {},
   "source": [
    "Building the ANN"
   ]
  },
  {
   "attachments": {},
   "cell_type": "markdown",
   "metadata": {},
   "source": [
    "Initializing the ANN"
   ]
  },
  {
   "attachments": {},
   "cell_type": "markdown",
   "metadata": {},
   "source": [
    "ANN architecture can be of types (i) sequence of layers (ii)Computational graph "
   ]
  },
  {
   "cell_type": "code",
   "execution_count": 32,
   "metadata": {},
   "outputs": [],
   "source": [
    "ann = tf.keras.models.Sequential()"
   ]
  },
  {
   "attachments": {},
   "cell_type": "markdown",
   "metadata": {},
   "source": [
    "Adding the input layer and the first hidden layer"
   ]
  },
  {
   "attachments": {},
   "cell_type": "markdown",
   "metadata": {},
   "source": [
    "    -> Number of input layers need not be specified explicitly,  automatically recognised when the matrix of features are         loaded while training the model\n",
    "    -> units = 6 denotes that there are 6 hidden layers"
   ]
  },
  {
   "cell_type": "code",
   "execution_count": 33,
   "metadata": {},
   "outputs": [],
   "source": [
    "ann.add(\n",
    "    tf.keras.layers.Dense(units = 6,  activation = 'relu')\n",
    ")"
   ]
  },
  {
   "attachments": {},
   "cell_type": "markdown",
   "metadata": {},
   "source": [
    "Adding the Seconnd hidden layer"
   ]
  },
  {
   "cell_type": "code",
   "execution_count": 34,
   "metadata": {},
   "outputs": [],
   "source": [
    "ann.add(\n",
    "    tf.keras.layers.Dense(units = 6, activation = 'relu')\n",
    ")"
   ]
  },
  {
   "attachments": {},
   "cell_type": "markdown",
   "metadata": {},
   "source": [
    "Adding the output layer"
   ]
  },
  {
   "attachments": {},
   "cell_type": "markdown",
   "metadata": {},
   "source": [
    "    ->  sigmoid : ANN binnary classification\n",
    "    ->  softmax activation function : ANN multiple classification\n",
    "    ->  no activation function : regression"
   ]
  },
  {
   "cell_type": "code",
   "execution_count": 35,
   "metadata": {},
   "outputs": [],
   "source": [
    "ann.add(\n",
    "    tf.keras.layers.Dense(units = 1)\n",
    ")"
   ]
  },
  {
   "attachments": {},
   "cell_type": "markdown",
   "metadata": {},
   "source": [
    "Training the ANN"
   ]
  },
  {
   "attachments": {},
   "cell_type": "markdown",
   "metadata": {},
   "source": [
    "Compiling the ANN"
   ]
  },
  {
   "cell_type": "code",
   "execution_count": 36,
   "metadata": {},
   "outputs": [],
   "source": [
    "ann.compile(\n",
    "    optimizer = 'adam',\n",
    "    loss = 'mean_squared_error'\n",
    ")"
   ]
  },
  {
   "attachments": {},
   "cell_type": "markdown",
   "metadata": {},
   "source": [
    "Training the ANN model on the training set"
   ]
  },
  {
   "cell_type": "code",
   "execution_count": 37,
   "metadata": {},
   "outputs": [
    {
     "name": "stdout",
     "output_type": "stream",
     "text": [
      "Epoch 1/100\n",
      "240/240 [==============================] - 1s 1ms/step - loss: 34762.5547\n",
      "Epoch 2/100\n",
      "240/240 [==============================] - 0s 1ms/step - loss: 145.8416\n",
      "Epoch 3/100\n",
      "240/240 [==============================] - 0s 2ms/step - loss: 140.8699\n",
      "Epoch 4/100\n",
      "240/240 [==============================] - 0s 2ms/step - loss: 135.2225\n",
      "Epoch 5/100\n",
      "240/240 [==============================] - 0s 1ms/step - loss: 128.6916\n",
      "Epoch 6/100\n",
      "240/240 [==============================] - 0s 1ms/step - loss: 121.1744\n",
      "Epoch 7/100\n",
      "240/240 [==============================] - 0s 1ms/step - loss: 113.1301\n",
      "Epoch 8/100\n",
      "240/240 [==============================] - 0s 968us/step - loss: 104.7191\n",
      "Epoch 9/100\n",
      "240/240 [==============================] - 0s 1ms/step - loss: 95.9637\n",
      "Epoch 10/100\n",
      "240/240 [==============================] - 0s 1ms/step - loss: 86.9483\n",
      "Epoch 11/100\n",
      "240/240 [==============================] - 0s 1ms/step - loss: 78.4017\n",
      "Epoch 12/100\n",
      "240/240 [==============================] - 0s 1ms/step - loss: 70.0723\n",
      "Epoch 13/100\n",
      "240/240 [==============================] - 0s 1ms/step - loss: 62.4633\n",
      "Epoch 14/100\n",
      "240/240 [==============================] - 0s 1ms/step - loss: 55.5452\n",
      "Epoch 15/100\n",
      "240/240 [==============================] - 0s 1ms/step - loss: 49.4796\n",
      "Epoch 16/100\n",
      "240/240 [==============================] - 0s 1ms/step - loss: 44.5583\n",
      "Epoch 17/100\n",
      "240/240 [==============================] - 0s 1ms/step - loss: 40.4333\n",
      "Epoch 18/100\n",
      "240/240 [==============================] - 0s 1ms/step - loss: 37.3810\n",
      "Epoch 19/100\n",
      "240/240 [==============================] - 0s 999us/step - loss: 34.9798\n",
      "Epoch 20/100\n",
      "240/240 [==============================] - 0s 981us/step - loss: 33.4054\n",
      "Epoch 21/100\n",
      "240/240 [==============================] - 0s 994us/step - loss: 32.0469\n",
      "Epoch 22/100\n",
      "240/240 [==============================] - 0s 1ms/step - loss: 30.9046\n",
      "Epoch 23/100\n",
      "240/240 [==============================] - 0s 1ms/step - loss: 30.4291\n",
      "Epoch 24/100\n",
      "240/240 [==============================] - 0s 1ms/step - loss: 29.7478\n",
      "Epoch 25/100\n",
      "240/240 [==============================] - 0s 1ms/step - loss: 29.5678\n",
      "Epoch 26/100\n",
      "240/240 [==============================] - 0s 1ms/step - loss: 29.0500\n",
      "Epoch 27/100\n",
      "240/240 [==============================] - 0s 981us/step - loss: 28.6674\n",
      "Epoch 28/100\n",
      "240/240 [==============================] - 0s 994us/step - loss: 28.6431\n",
      "Epoch 29/100\n",
      "240/240 [==============================] - 0s 1ms/step - loss: 28.3711\n",
      "Epoch 30/100\n",
      "240/240 [==============================] - 0s 952us/step - loss: 28.0635\n",
      "Epoch 31/100\n",
      "240/240 [==============================] - 0s 994us/step - loss: 28.2957\n",
      "Epoch 32/100\n",
      "240/240 [==============================] - 0s 1ms/step - loss: 27.8132\n",
      "Epoch 33/100\n",
      "240/240 [==============================] - 0s 1ms/step - loss: 27.6906\n",
      "Epoch 34/100\n",
      "240/240 [==============================] - 0s 1ms/step - loss: 27.9091\n",
      "Epoch 35/100\n",
      "240/240 [==============================] - 0s 1ms/step - loss: 27.3845\n",
      "Epoch 36/100\n",
      "240/240 [==============================] - 0s 1ms/step - loss: 28.1710\n",
      "Epoch 37/100\n",
      "240/240 [==============================] - 0s 1ms/step - loss: 27.6330\n",
      "Epoch 38/100\n",
      "240/240 [==============================] - 0s 976us/step - loss: 27.6092\n",
      "Epoch 39/100\n",
      "240/240 [==============================] - 0s 1ms/step - loss: 27.4001\n",
      "Epoch 40/100\n",
      "240/240 [==============================] - 0s 1ms/step - loss: 27.1490\n",
      "Epoch 41/100\n",
      "240/240 [==============================] - 0s 1ms/step - loss: 27.3471\n",
      "Epoch 42/100\n",
      "240/240 [==============================] - 0s 1ms/step - loss: 26.9190\n",
      "Epoch 43/100\n",
      "240/240 [==============================] - 0s 999us/step - loss: 26.8841\n",
      "Epoch 44/100\n",
      "240/240 [==============================] - 0s 1ms/step - loss: 26.8032\n",
      "Epoch 45/100\n",
      "240/240 [==============================] - 0s 1ms/step - loss: 26.8750\n",
      "Epoch 46/100\n",
      "240/240 [==============================] - 0s 1ms/step - loss: 26.7889\n",
      "Epoch 47/100\n",
      "240/240 [==============================] - 0s 1ms/step - loss: 26.6672\n",
      "Epoch 48/100\n",
      "240/240 [==============================] - 0s 1ms/step - loss: 27.6640\n",
      "Epoch 49/100\n",
      "240/240 [==============================] - 0s 1ms/step - loss: 26.9018\n",
      "Epoch 50/100\n",
      "240/240 [==============================] - 0s 1ms/step - loss: 26.4181\n",
      "Epoch 51/100\n",
      "240/240 [==============================] - 0s 1ms/step - loss: 26.6973\n",
      "Epoch 52/100\n",
      "240/240 [==============================] - 0s 945us/step - loss: 26.6118\n",
      "Epoch 53/100\n",
      "240/240 [==============================] - 0s 1ms/step - loss: 27.2253\n",
      "Epoch 54/100\n",
      "240/240 [==============================] - 0s 1ms/step - loss: 26.8148\n",
      "Epoch 55/100\n",
      "240/240 [==============================] - 0s 991us/step - loss: 26.9910\n",
      "Epoch 56/100\n",
      "240/240 [==============================] - 0s 990us/step - loss: 26.9873\n",
      "Epoch 57/100\n",
      "240/240 [==============================] - 0s 966us/step - loss: 27.0429\n",
      "Epoch 58/100\n",
      "240/240 [==============================] - 0s 1ms/step - loss: 26.4677\n",
      "Epoch 59/100\n",
      "240/240 [==============================] - 0s 961us/step - loss: 26.8318\n",
      "Epoch 60/100\n",
      "240/240 [==============================] - 0s 932us/step - loss: 26.8889\n",
      "Epoch 61/100\n",
      "240/240 [==============================] - 0s 956us/step - loss: 26.4576\n",
      "Epoch 62/100\n",
      "240/240 [==============================] - 0s 1ms/step - loss: 26.5895\n",
      "Epoch 63/100\n",
      "240/240 [==============================] - 0s 957us/step - loss: 26.4617\n",
      "Epoch 64/100\n",
      "240/240 [==============================] - 0s 1ms/step - loss: 26.5370\n",
      "Epoch 65/100\n",
      "240/240 [==============================] - 0s 1ms/step - loss: 26.8164\n",
      "Epoch 66/100\n",
      "240/240 [==============================] - 0s 955us/step - loss: 26.4422\n",
      "Epoch 67/100\n",
      "240/240 [==============================] - 0s 1ms/step - loss: 26.5112\n",
      "Epoch 68/100\n",
      "240/240 [==============================] - 0s 986us/step - loss: 26.5670\n",
      "Epoch 69/100\n",
      "240/240 [==============================] - 0s 1ms/step - loss: 26.7858\n",
      "Epoch 70/100\n",
      "240/240 [==============================] - 0s 966us/step - loss: 26.4458\n",
      "Epoch 71/100\n",
      "240/240 [==============================] - 0s 977us/step - loss: 26.4213\n",
      "Epoch 72/100\n",
      "240/240 [==============================] - 0s 1ms/step - loss: 27.0894\n",
      "Epoch 73/100\n",
      "240/240 [==============================] - 0s 1ms/step - loss: 26.6591\n",
      "Epoch 74/100\n",
      "240/240 [==============================] - 0s 1ms/step - loss: 26.2890\n",
      "Epoch 75/100\n",
      "240/240 [==============================] - 0s 996us/step - loss: 26.3781\n",
      "Epoch 76/100\n",
      "240/240 [==============================] - 0s 957us/step - loss: 26.2143\n",
      "Epoch 77/100\n",
      "240/240 [==============================] - 0s 1ms/step - loss: 26.7430\n",
      "Epoch 78/100\n",
      "240/240 [==============================] - 0s 989us/step - loss: 26.6949\n",
      "Epoch 79/100\n",
      "240/240 [==============================] - 0s 959us/step - loss: 26.6274\n",
      "Epoch 80/100\n",
      "240/240 [==============================] - 0s 988us/step - loss: 26.3983\n",
      "Epoch 81/100\n",
      "240/240 [==============================] - 0s 1ms/step - loss: 26.7524\n",
      "Epoch 82/100\n",
      "240/240 [==============================] - 0s 1ms/step - loss: 26.5337\n",
      "Epoch 83/100\n",
      "240/240 [==============================] - 0s 1ms/step - loss: 26.5978\n",
      "Epoch 84/100\n",
      "240/240 [==============================] - 0s 1ms/step - loss: 26.5193\n",
      "Epoch 85/100\n",
      "240/240 [==============================] - 0s 958us/step - loss: 26.6714\n",
      "Epoch 86/100\n",
      "240/240 [==============================] - 0s 966us/step - loss: 26.4801\n",
      "Epoch 87/100\n",
      "240/240 [==============================] - 0s 974us/step - loss: 27.1001\n",
      "Epoch 88/100\n",
      "240/240 [==============================] - 0s 1ms/step - loss: 26.3585\n",
      "Epoch 89/100\n",
      "240/240 [==============================] - 0s 972us/step - loss: 26.6799\n",
      "Epoch 90/100\n",
      "240/240 [==============================] - 0s 1ms/step - loss: 26.6440\n",
      "Epoch 91/100\n",
      "240/240 [==============================] - 0s 1ms/step - loss: 26.5467\n",
      "Epoch 92/100\n",
      "240/240 [==============================] - 0s 1ms/step - loss: 26.6085\n",
      "Epoch 93/100\n",
      "240/240 [==============================] - 0s 936us/step - loss: 26.6083\n",
      "Epoch 94/100\n",
      "240/240 [==============================] - 0s 983us/step - loss: 26.6080\n",
      "Epoch 95/100\n",
      "240/240 [==============================] - 0s 944us/step - loss: 27.0590\n",
      "Epoch 96/100\n",
      "240/240 [==============================] - 0s 986us/step - loss: 26.5247\n",
      "Epoch 97/100\n",
      "240/240 [==============================] - 0s 1ms/step - loss: 26.5215\n",
      "Epoch 98/100\n",
      "240/240 [==============================] - 0s 952us/step - loss: 27.0999\n",
      "Epoch 99/100\n",
      "240/240 [==============================] - 0s 1ms/step - loss: 26.6144\n",
      "Epoch 100/100\n",
      "240/240 [==============================] - 0s 977us/step - loss: 26.7658\n"
     ]
    },
    {
     "data": {
      "text/plain": [
       "<keras.callbacks.History at 0x2369e1253a0>"
      ]
     },
     "execution_count": 37,
     "metadata": {},
     "output_type": "execute_result"
    }
   ],
   "source": [
    "ann.fit(X_train, y_train, batch_size = 32, epochs=100)"
   ]
  },
  {
   "attachments": {},
   "cell_type": "markdown",
   "metadata": {},
   "source": [
    "Predicting the results of the test set"
   ]
  },
  {
   "cell_type": "code",
   "execution_count": 38,
   "metadata": {},
   "outputs": [
    {
     "name": "stdout",
     "output_type": "stream",
     "text": [
      "60/60 [==============================] - 0s 935us/step\n"
     ]
    }
   ],
   "source": [
    "y_pred = ann.predict(X_test)"
   ]
  },
  {
   "cell_type": "code",
   "execution_count": 39,
   "metadata": {},
   "outputs": [
    {
     "name": "stdout",
     "output_type": "stream",
     "text": [
      "[[430.84 431.23]\n",
      " [461.85 460.01]\n",
      " [465.34 461.14]\n",
      " ...\n",
      " [472.59 473.26]\n",
      " [439.37 438.  ]\n",
      " [458.59 463.28]]\n"
     ]
    }
   ],
   "source": [
    "np.set_printoptions(precision=2)\n",
    "print(np.concatenate((y_pred.reshape(len(y_pred), 1), y_test.reshape(len(y_test),1)), 1))"
   ]
  }
 ],
 "metadata": {
  "kernelspec": {
   "display_name": "Python 3",
   "language": "python",
   "name": "python3"
  },
  "language_info": {
   "codemirror_mode": {
    "name": "ipython",
    "version": 3
   },
   "file_extension": ".py",
   "mimetype": "text/x-python",
   "name": "python",
   "nbconvert_exporter": "python",
   "pygments_lexer": "ipython3",
   "version": "3.9.12"
  },
  "orig_nbformat": 4
 },
 "nbformat": 4,
 "nbformat_minor": 2
}
